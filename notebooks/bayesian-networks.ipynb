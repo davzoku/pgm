{
 "cells": [
  {
   "cell_type": "markdown",
   "id": "e24f9724-5424-4152-ab9c-ce04801df190",
   "metadata": {},
   "source": [
    "# Bayesian Networks"
   ]
  },
  {
   "cell_type": "code",
   "execution_count": 1,
   "id": "0d3f2b93-2b1a-4956-915e-a994d1d3b0a6",
   "metadata": {},
   "outputs": [
    {
     "name": "stderr",
     "output_type": "stream",
     "text": [
      "/opt/homebrew/Caskroom/miniconda/base/envs/pgm/lib/python3.10/site-packages/tqdm/auto.py:21: TqdmWarning: IProgress not found. Please update jupyter and ipywidgets. See https://ipywidgets.readthedocs.io/en/stable/user_install.html\n",
      "  from .autonotebook import tqdm as notebook_tqdm\n"
     ]
    }
   ],
   "source": [
    "import sys\n",
    "from pgmpy.models import BayesianModel\n",
    "from pgmpy.factors.discrete import TabularCPD\n",
    "from pgmpy.independencies.Independencies import IndependenceAssertion\n",
    "from pgmpy.inference import VariableElimination\n",
    "\n",
    "\n",
    "sys.path.append('scripts')\n",
    "from utils import *"
   ]
  },
  {
   "cell_type": "markdown",
   "id": "2bb94dba-92cb-4a85-9032-b6d2cac9eabd",
   "metadata": {},
   "source": [
    "Create the Student Network from [Probabilistic Graphical Models: Principles and Techniques by Daphne Koller](https://www.goodreads.com/en/book/show/6676555)"
   ]
  },
  {
   "cell_type": "code",
   "execution_count": 37,
   "id": "b3388b7f-6c21-4142-ba87-d370ade8f606",
   "metadata": {},
   "outputs": [],
   "source": [
    "student_model = BayesianModel([('Difficulty', 'Grade'),\n",
    "                               ('Intelligence', 'Grade'),\n",
    "                               ('Grade', 'Letter'),\n",
    "                               ('Intelligence', 'SAT')])\n",
    "\n",
    "cpd_difficulty = TabularCPD(variable='Difficulty', variable_card=2,\n",
    "                            values=[[0.6], [0.4]],\n",
    "                            state_names={'Difficulty': ['Easy', 'Hard']})\n",
    "cpd_intelligence = TabularCPD(variable='Intelligence', variable_card=2,\n",
    "                              values=[[0.7], [0.3]],\n",
    "                              state_names={'Intelligence': ['Low', 'High']})\n",
    "cpd_grade = TabularCPD(variable='Grade', variable_card=3,\n",
    "                       values=[[0.3, 0.05, 0.9, 0.5],\n",
    "                               [0.4, 0.25, 0.08, 0.3],\n",
    "                               [0.3, 0.7, 0.02, 0.2]],\n",
    "                       evidence=['Difficulty', 'Intelligence'],\n",
    "                       evidence_card=[2, 2],\n",
    "                       state_names={'Grade': ['A', 'B', 'C'],\n",
    "                                    'Difficulty': ['Easy', 'Hard'],\n",
    "                                    'Intelligence': ['Low', 'High']})\n",
    "cpd_letter = TabularCPD(variable='Letter', variable_card=2,\n",
    "                        values=[[0.1, 0.4, 0.99],\n",
    "                                [0.9, 0.6, 0.01]],\n",
    "                        evidence=['Grade'],\n",
    "                        evidence_card=[3],\n",
    "                        state_names={'Letter': ['Good', 'Bad'],\n",
    "                                     'Grade': ['A', 'B', 'C']})\n",
    "cpd_sat = TabularCPD(variable='SAT', variable_card=2,\n",
    "                     values=[[0.95, 0.2],\n",
    "                             [0.05, 0.8]],\n",
    "                     evidence=['Intelligence'],\n",
    "                     evidence_card=[2],\n",
    "                     state_names={'SAT': ['Good', 'Bad'],\n",
    "                                  'Intelligence': ['Low', 'High']})\n",
    "\n",
    "\n",
    "student_model.add_cpds(cpd_difficulty, cpd_intelligence, cpd_grade, cpd_letter, cpd_sat)"
   ]
  },
  {
   "cell_type": "code",
   "execution_count": 38,
   "id": "93c22c93-551d-4212-b18e-a1e5e22a55ee",
   "metadata": {},
   "outputs": [
    {
     "data": {
      "text/plain": [
       "True"
      ]
     },
     "execution_count": 38,
     "metadata": {},
     "output_type": "execute_result"
    }
   ],
   "source": [
    "# check if model is created correctly\n",
    "student_model.check_model()"
   ]
  },
  {
   "cell_type": "code",
   "execution_count": 60,
   "id": "8bea1c81-ef31-413b-a2fd-477df8030b57",
   "metadata": {},
   "outputs": [
    {
     "data": {
      "image/png": "[encoded data removed]",
      "text/plain": [
       "<IPython.core.display.Image object>"
      ]
     },
     "execution_count": 60,
     "metadata": {},
     "output_type": "execute_result"
    }
   ],
   "source": [
    "ASSETS_FOLDER = 'assets/'\n",
    "display_bayesian_model(student_model, ASSETS_FOLDER+ 'student_network.png')\n"
   ]
  },
  {
   "cell_type": "code",
   "execution_count": 39,
   "id": "50ad7481-3c2e-4402-a5d3-05403a3ff1d4",
   "metadata": {},
   "outputs": [
    {
     "name": "stdout",
     "output_type": "stream",
     "text": [
      "+--------------+-------------------+-----+--------------------+\n",
      "| Difficulty   | Difficulty(Easy)  | ... | Difficulty(Hard)   |\n",
      "+--------------+-------------------+-----+--------------------+\n",
      "| Intelligence | Intelligence(Low) | ... | Intelligence(High) |\n",
      "+--------------+-------------------+-----+--------------------+\n",
      "| Grade(A)     | 0.3               | ... | 0.5                |\n",
      "+--------------+-------------------+-----+--------------------+\n",
      "| Grade(B)     | 0.4               | ... | 0.3                |\n",
      "+--------------+-------------------+-----+--------------------+\n",
      "| Grade(C)     | 0.3               | ... | 0.2                |\n",
      "+--------------+-------------------+-----+--------------------+\n"
     ]
    }
   ],
   "source": [
    "print(student_model.get_cpds('Grade'))"
   ]
  },
  {
   "cell_type": "code",
   "execution_count": 14,
   "id": "a6ca16eb-e807-4ce3-887b-907cc8f1fb1c",
   "metadata": {},
   "outputs": [
    {
     "data": {
      "text/plain": [
       "['Letter', 'Intelligence', 'Difficulty']"
      ]
     },
     "execution_count": 14,
     "metadata": {},
     "output_type": "execute_result"
    }
   ],
   "source": [
    "student_model.get_markov_blanket('Grade')"
   ]
  },
  {
   "cell_type": "code",
   "execution_count": 40,
   "id": "78593fe4-1dbc-4d5e-80c9-55475f2fbcf0",
   "metadata": {},
   "outputs": [
    {
     "data": {
      "text/plain": [
       "(Difficulty ⟂ SAT, Intelligence)\n",
       "(Intelligence ⟂ Difficulty)\n",
       "(Grade ⟂ SAT | Difficulty, Intelligence)\n",
       "(SAT ⟂ Difficulty, Grade, Letter | Intelligence)\n",
       "(Letter ⟂ Difficulty, SAT, Intelligence | Grade)"
      ]
     },
     "execution_count": 40,
     "metadata": {},
     "output_type": "execute_result"
    }
   ],
   "source": [
    "student_variables = ['Difficulty', 'Intelligence', 'Grade', 'SAT', 'Letter']\n",
    "# check independencies                     \n",
    "student_model.local_independencies(student_variables)"
   ]
  },
  {
   "cell_type": "markdown",
   "id": "9778517b-99d5-4feb-b304-dd8d65acbe1a",
   "metadata": {},
   "source": [
    "## Construct a Bayesian Network for given conditions\n",
    "\n",
    "(A ⟂ B): True\n",
    "(A ⟂ D | C): True\n",
    "(B ⟂ D | C, A): True\n",
    "\n",
    "\n",
    "(A ⟂ D | B): False\n",
    "(A ⟂ C): False\n",
    "(B ⟂ C): False\n",
    "(A ⟂ B | D): False"
   ]
  },
  {
   "cell_type": "code",
   "execution_count": 20,
   "id": "a8827ff4-9e7b-4e73-85ed-1b2f950dc85c",
   "metadata": {},
   "outputs": [],
   "source": [
    "def check_assertion(model, independent, from_variables, evidence):\n",
    "    assertion = IndependenceAssertion(independent, from_variables, evidence)\n",
    "    result = False\n",
    "    for a in model.get_independencies().get_assertions():\n",
    "        if frozenset(assertion.event1) == a.event1 and assertion.event2 <= a.event2 and frozenset(assertion.event3) == a.event3:\n",
    "            result = True\n",
    "            break\n",
    "    print(f'{assertion}: {result}')"
   ]
  },
  {
   "cell_type": "code",
   "execution_count": 24,
   "id": "7c3980d3-7468-4e35-b428-dc346467a47a",
   "metadata": {},
   "outputs": [
    {
     "name": "stdout",
     "output_type": "stream",
     "text": [
      "(A ⟂ B): True\n",
      "(A ⟂ D | C): True\n",
      "(B ⟂ D | A, C): True\n",
      "---\n",
      "(A ⟂ D | B): False\n",
      "(A ⟂ C): False\n",
      "(B ⟂ C): False\n",
      "(A ⟂ B | D): False\n"
     ]
    }
   ],
   "source": [
    "conditional_model = BayesianModel([('A', 'C'), ('B', 'C'), ('C', 'D')])\n",
    "\n",
    "check_assertion(conditional_model, independent=['A'], from_variables=['B'], evidence=[])\n",
    "check_assertion(conditional_model, independent=['A'], from_variables=['D'], evidence=['C'])\n",
    "check_assertion(conditional_model, independent=['B'], from_variables=['D'], evidence=['A', 'C'])\n",
    "print(\"---\")\n",
    "check_assertion(conditional_model, independent=['A'], from_variables=['D'], evidence=['B'])\n",
    "check_assertion(conditional_model, independent=['A'], from_variables=['C'], evidence=[])\n",
    "check_assertion(conditional_model, independent=['B'], from_variables=['C'], evidence=[])\n",
    "check_assertion(conditional_model, independent=['A'], from_variables=['B'], evidence=['D'])"
   ]
  },
  {
   "cell_type": "code",
   "execution_count": 25,
   "id": "332ec4dd-851d-4e37-947f-62e38bd084e8",
   "metadata": {},
   "outputs": [
    {
     "data": {
      "image/png": "[encoded data removed]",
      "text/plain": [
       "<IPython.core.display.Image object>"
      ]
     },
     "execution_count": 25,
     "metadata": {},
     "output_type": "execute_result"
    }
   ],
   "source": [
    "ASSETS_FOLDER = 'assets/'\n",
    "display_bayesian_model(conditional_model, ASSETS_FOLDER+ 'conditional_network.png')"
   ]
  },
  {
   "cell_type": "markdown",
   "id": "07a80366-11e5-4d5f-9f73-91a736910073",
   "metadata": {},
   "source": [
    "## Variable Elimination and Inference"
   ]
  },
  {
   "cell_type": "markdown",
   "id": "78f9f7e8-98c8-49dc-b79e-13b6276358a1",
   "metadata": {},
   "source": [
    "Back to the Student Network, we know that:\n",
    "\n",
    "$P(D, I, G, L, S) = P(L|G) * P(S|I) * P(G|D, I) * P(D) * P(I)$\n",
    "\n",
    "Now let's say we just want to compute the probability of G. For that we will need to marginalize over all the other variables.\n",
    "\n",
    "$P(G) = \\sum_{D, I, L, S} P(D, I, G, L, S)$\n",
    "\n",
    "$P(G) = \\sum_{D, I, L, S} P(L|G) * P(S|I) * P(G|D, I) * P(D) * P(I)$\n",
    "\n",
    "$P(G) = \\sum_D \\sum_I \\sum_L \\sum_S P(L|G) * P(S|I) * P(G|D, I) * P(D) * P(I)$\n",
    "\n",
    "Now since not all the conditional distributions depend on all the variables we can push the summations inside:\n",
    "\n",
    "$P(G) = \\sum_D \\sum_I \\sum_L \\sum_S P(L|G) * P(S|I) * P(G|D, I) * P(D) * P(I)$\n",
    "\n",
    "$P(G) = \\sum_D P(D) \\sum_I P(G|D, I) * P(I) \\sum_S P(S|I) \\sum_L P(L|G)$\n",
    "\n",
    "So, by pushing the summations inside we have saved a lot of computation because we have to now iterate over much smaller tables.\n",
    "\n",
    "Let's take an example for inference using Variable Elimination in pgmpy:"
   ]
  },
  {
   "cell_type": "code",
   "execution_count": 43,
   "id": "6b60014d-ca8c-4dcd-a272-4c7f3265ae90",
   "metadata": {},
   "outputs": [
    {
     "name": "stderr",
     "output_type": "stream",
     "text": [
      "Finding Elimination Order: : 100%|█████████████████████████████████████████████████████| 2/2 [00:00<00:00, 1066.03it/s]\n",
      "Eliminating: Intelligence: 100%|███████████████████████████████████████████████████████| 2/2 [00:00<00:00, 1748.36it/s]"
     ]
    },
    {
     "name": "stdout",
     "output_type": "stream",
     "text": [
      "+----------+--------------+\n",
      "| Grade    |   phi(Grade) |\n",
      "+==========+==============+\n",
      "| Grade(A) |       0.4470 |\n",
      "+----------+--------------+\n",
      "| Grade(B) |       0.2714 |\n",
      "+----------+--------------+\n",
      "| Grade(C) |       0.2816 |\n",
      "+----------+--------------+\n"
     ]
    },
    {
     "name": "stderr",
     "output_type": "stream",
     "text": [
      "\n"
     ]
    }
   ],
   "source": [
    "infer = VariableElimination(student_model)\n",
    "print(infer.query(['Grade'], elimination_order= 'MinNeighbors', show_progress=True))"
   ]
  },
  {
   "cell_type": "markdown",
   "id": "8f552cb1-29be-4636-b11a-62e000884de6",
   "metadata": {},
   "source": [
    "## Variable Elimination with Evidence"
   ]
  },
  {
   "cell_type": "code",
   "execution_count": 44,
   "id": "7be3a465-d17c-44e4-bae2-f3c6cc5dbef2",
   "metadata": {},
   "outputs": [
    {
     "name": "stderr",
     "output_type": "stream",
     "text": [
      "Finding Elimination Order: : : 0it [00:00, ?it/s]\n",
      "0it [00:00, ?it/s]"
     ]
    },
    {
     "name": "stdout",
     "output_type": "stream",
     "text": [
      "+----------+--------------+\n",
      "| Grade    |   phi(Grade) |\n",
      "+==========+==============+\n",
      "| Grade(A) |       0.0500 |\n",
      "+----------+--------------+\n",
      "| Grade(B) |       0.2500 |\n",
      "+----------+--------------+\n",
      "| Grade(C) |       0.7000 |\n",
      "+----------+--------------+\n"
     ]
    },
    {
     "name": "stderr",
     "output_type": "stream",
     "text": [
      "\n"
     ]
    }
   ],
   "source": [
    "print(infer.query(['Grade'], evidence={'Difficulty': 'Easy', 'Intelligence': 'High'}, elimination_order= 'MinNeighbors', show_progress=True))"
   ]
  },
  {
   "cell_type": "markdown",
   "id": "e6258f32-3385-4394-b0db-4b3cff321107",
   "metadata": {},
   "source": [
    "## Predicting new data points\n",
    "\n",
    "This is similar query but instead of getting the probability distribution, we are just concern of the most probable state for the query."
   ]
  },
  {
   "cell_type": "code",
   "execution_count": 45,
   "id": "25e89eac-759b-451c-a995-62f01c030284",
   "metadata": {},
   "outputs": [
    {
     "name": "stderr",
     "output_type": "stream",
     "text": [
      "Finding Elimination Order: : 100%|█████████████████████████████████████████████████████| 2/2 [00:00<00:00, 1430.77it/s]\n",
      "Eliminating: Intelligence: 100%|███████████████████████████████████████████████████████| 2/2 [00:00<00:00, 1078.23it/s]\n"
     ]
    },
    {
     "data": {
      "text/plain": [
       "{'Grade': 'A'}"
      ]
     },
     "execution_count": 45,
     "metadata": {},
     "output_type": "execute_result"
    }
   ],
   "source": [
    "infer.map_query(['Grade'])"
   ]
  },
  {
   "cell_type": "code",
   "execution_count": 46,
   "id": "073e1a5f-3f09-435f-9234-fcf4b12d0ab0",
   "metadata": {},
   "outputs": [
    {
     "name": "stderr",
     "output_type": "stream",
     "text": [
      "Finding Elimination Order: : : 0it [00:00, ?it/s]\n",
      "0it [00:00, ?it/s]\n"
     ]
    },
    {
     "data": {
      "text/plain": [
       "{'Grade': 'A'}"
      ]
     },
     "execution_count": 46,
     "metadata": {},
     "output_type": "execute_result"
    }
   ],
   "source": [
    "infer.map_query(['Grade'], \n",
    "                evidence={'Difficulty': 'Easy', \n",
    "                          'Intelligence': 'Low', \n",
    "                          'Letter': 'Bad', \n",
    "                          'SAT': 'Bad'})"
   ]
  },
  {
   "cell_type": "code",
   "execution_count": 48,
   "id": "50688eb6-cd58-4358-ae02-bb6d2f9c045b",
   "metadata": {},
   "outputs": [
    {
     "name": "stdout",
     "output_type": "stream",
     "text": [
      "+----------+--------------+\n",
      "| Grade    |   phi(Grade) |\n",
      "+==========+==============+\n",
      "| Grade(A) |       0.5263 |\n",
      "+----------+--------------+\n",
      "| Grade(B) |       0.4678 |\n",
      "+----------+--------------+\n",
      "| Grade(C) |       0.0058 |\n",
      "+----------+--------------+\n"
     ]
    }
   ],
   "source": [
    "print(infer.query(['Grade'], \n",
    "                evidence={'Difficulty': 'Easy', \n",
    "                          'Intelligence': 'Low', \n",
    "                          'Letter': 'Bad', \n",
    "                          'SAT': 'Bad'}))"
   ]
  },
  {
   "cell_type": "code",
   "execution_count": null,
   "id": "c77caea1-0206-46f0-a9e8-0c5f89ee8e63",
   "metadata": {},
   "outputs": [],
   "source": []
  }
 ],
 "metadata": {
  "kernelspec": {
   "display_name": "Python 3 (ipykernel)",
   "language": "python",
   "name": "python3"
  },
  "language_info": {
   "codemirror_mode": {
    "name": "ipython",
    "version": 3
   },
   "file_extension": ".py",
   "mimetype": "text/x-python",
   "name": "python",
   "nbconvert_exporter": "python",
   "pygments_lexer": "ipython3",
   "version": "3.10.11"
  }
 },
 "nbformat": 4,
 "nbformat_minor": 5
}
